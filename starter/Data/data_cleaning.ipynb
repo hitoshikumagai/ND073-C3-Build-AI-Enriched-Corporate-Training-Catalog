{
 "cells": [
  {
   "cell_type": "code",
   "execution_count": 2,
   "metadata": {},
   "outputs": [],
   "source": [
    "import pandas as pd\n",
    "import glob, os"
   ]
  },
  {
   "cell_type": "code",
   "execution_count": 19,
   "metadata": {},
   "outputs": [
    {
     "name": "stdout",
     "output_type": "stream",
     "text": [
      "<class 'pandas.core.frame.DataFrame'>\n",
      "RangeIndex: 995 entries, 0 to 994\n",
      "Data columns (total 13 columns):\n",
      " #   Column          Non-Null Count  Dtype \n",
      "---  ------          --------------  ----- \n",
      " 0   PartitionKey    995 non-null    object\n",
      " 1   RowKey          995 non-null    object\n",
      " 2   source          995 non-null    object\n",
      " 3   title           995 non-null    object\n",
      " 4   description     995 non-null    object\n",
      " 5   instructor      14 non-null     object\n",
      " 6   level           995 non-null    object\n",
      " 7   role            994 non-null    object\n",
      " 8   product         988 non-null    object\n",
      " 9   duration        995 non-null    object\n",
      " 10  rating_count    995 non-null    object\n",
      " 11  rating_average  995 non-null    object\n",
      " 12  url             995 non-null    object\n",
      "dtypes: object(13)\n",
      "memory usage: 101.2+ KB\n"
     ]
    }
   ],
   "source": [
    "data_pdth = [file_name for file_name in glob.glob(os.getcwd()+'/*') if 'csv' in file_name]\n",
    "df = pd.read_csv(data_pdth[0])\n",
    "df.info()"
   ]
  },
  {
   "cell_type": "code",
   "execution_count": 20,
   "metadata": {},
   "outputs": [
    {
     "data": {
      "text/plain": [
       "array(['44', '82', '59', '54', '66', '28', '87', '40', '70', '22', '80',\n",
       "       '46', '62', '49', '65', '43', '56', '45', '30', '60', '16', '19',\n",
       "       '41', '72', '63', '36', '32', '69', '25', '77', '50', '37', '47',\n",
       "       '38', '74', '53', '104', '17', '18', '52', '35', '21', '42', '91',\n",
       "       '24', '68', '23', '73', '39', '29', '76', '64', '55', '34', '27',\n",
       "       '75', '51', '122', '108', '90', '12', '10', '61', '1', '3', '5',\n",
       "       '2', '3 months', '4 months ', '2 months ', '4 months', '3 Months',\n",
       "       '1 month', '2 months'], dtype=object)"
      ]
     },
     "execution_count": 20,
     "metadata": {},
     "output_type": "execute_result"
    }
   ],
   "source": [
    "df.duration.unique()"
   ]
  },
  {
   "cell_type": "code",
   "execution_count": 21,
   "metadata": {},
   "outputs": [],
   "source": [
    "for idx in df.index:\n",
    "    if len(df.duration[idx])>3:\n",
    "        df.duration[idx] = 40 * int(df.duration[idx].split(' ')[0])"
   ]
  },
  {
   "cell_type": "code",
   "execution_count": 22,
   "metadata": {},
   "outputs": [
    {
     "data": {
      "text/html": [
       "<div>\n",
       "<style scoped>\n",
       "    .dataframe tbody tr th:only-of-type {\n",
       "        vertical-align: middle;\n",
       "    }\n",
       "\n",
       "    .dataframe tbody tr th {\n",
       "        vertical-align: top;\n",
       "    }\n",
       "\n",
       "    .dataframe thead th {\n",
       "        text-align: right;\n",
       "    }\n",
       "</style>\n",
       "<table border=\"1\" class=\"dataframe\">\n",
       "  <thead>\n",
       "    <tr style=\"text-align: right;\">\n",
       "      <th></th>\n",
       "      <th>PartitionKey</th>\n",
       "      <th>RowKey</th>\n",
       "      <th>source</th>\n",
       "      <th>title</th>\n",
       "      <th>description</th>\n",
       "      <th>instructor</th>\n",
       "      <th>level</th>\n",
       "      <th>role</th>\n",
       "      <th>product</th>\n",
       "      <th>duration</th>\n",
       "      <th>rating_count</th>\n",
       "      <th>rating_average</th>\n",
       "      <th>url</th>\n",
       "    </tr>\n",
       "  </thead>\n",
       "  <tbody>\n",
       "    <tr>\n",
       "      <th>990</th>\n",
       "      <td>ud-learn</td>\n",
       "      <td>f2eb532e-fcec-40b2-addc-23618672865a</td>\n",
       "      <td>Udacity</td>\n",
       "      <td>SQL</td>\n",
       "      <td>Perform analysis on data stored in relational ...</td>\n",
       "      <td>NaN</td>\n",
       "      <td>beginner</td>\n",
       "      <td>Data Analyst, Product Analyst, Business Analys...</td>\n",
       "      <td>SQL, noSQL</td>\n",
       "      <td>80</td>\n",
       "      <td>4.5</td>\n",
       "      <td>200</td>\n",
       "      <td>https://www.udacity.com/course/learn-sql--nd072</td>\n",
       "    </tr>\n",
       "    <tr>\n",
       "      <th>991</th>\n",
       "      <td>ud-learn</td>\n",
       "      <td>41408788-5bc9-4e17-a349-918c9398c21c</td>\n",
       "      <td>Udacity</td>\n",
       "      <td>Flying Car and Autonomous Flight Engineer</td>\n",
       "      <td>In this program, you’ll learn the core concept...</td>\n",
       "      <td>NaN</td>\n",
       "      <td>advanced</td>\n",
       "      <td>: Unmanned Aircraft Software Engineer, Softwar...</td>\n",
       "      <td>Python, C++</td>\n",
       "      <td>160</td>\n",
       "      <td>4.6</td>\n",
       "      <td>200</td>\n",
       "      <td>https://www.udacity.com/course/flying-car-nano...</td>\n",
       "    </tr>\n",
       "    <tr>\n",
       "      <th>992</th>\n",
       "      <td>ud-learn</td>\n",
       "      <td>5c361181-b064-412c-9497-0444e544a1e2</td>\n",
       "      <td>Udacity</td>\n",
       "      <td>Intro to Self-Driving Cars</td>\n",
       "      <td>In this program, you’ll sharpen your Python sk...</td>\n",
       "      <td>NaN</td>\n",
       "      <td>intermediate</td>\n",
       "      <td>engineer</td>\n",
       "      <td>Tensorflow, Keras, ROS, C++, Python</td>\n",
       "      <td>160</td>\n",
       "      <td>4.7</td>\n",
       "      <td>550</td>\n",
       "      <td>https://www.udacity.com/course/intro-to-self-d...</td>\n",
       "    </tr>\n",
       "    <tr>\n",
       "      <th>993</th>\n",
       "      <td>ud-learn</td>\n",
       "      <td>851bb622-77b5-488a-8c91-e4fbfe484852</td>\n",
       "      <td>Udacity</td>\n",
       "      <td>Artificial Intelligence</td>\n",
       "      <td>This program will teach you how to become a be...</td>\n",
       "      <td>NaN</td>\n",
       "      <td>intermediate</td>\n",
       "      <td>AI engineer</td>\n",
       "      <td>Python</td>\n",
       "      <td>120</td>\n",
       "      <td>4.5</td>\n",
       "      <td>250</td>\n",
       "      <td>https://www.udacity.com/course/ai-artificial-i...</td>\n",
       "    </tr>\n",
       "    <tr>\n",
       "      <th>994</th>\n",
       "      <td>ud-learn</td>\n",
       "      <td>b2d2ad39-10f3-4513-90a5-f1b3d9bf430a</td>\n",
       "      <td>Udacity</td>\n",
       "      <td>AI Programming with Python</td>\n",
       "      <td>This program focuses on the fundamental buildi...</td>\n",
       "      <td>NaN</td>\n",
       "      <td>beginner</td>\n",
       "      <td>engineer</td>\n",
       "      <td>Python</td>\n",
       "      <td>120</td>\n",
       "      <td>4.6</td>\n",
       "      <td>800</td>\n",
       "      <td>https://www.udacity.com/course/ai-programming-...</td>\n",
       "    </tr>\n",
       "  </tbody>\n",
       "</table>\n",
       "</div>"
      ],
      "text/plain": [
       "    PartitionKey                                RowKey   source  \\\n",
       "990     ud-learn  f2eb532e-fcec-40b2-addc-23618672865a  Udacity   \n",
       "991     ud-learn  41408788-5bc9-4e17-a349-918c9398c21c  Udacity   \n",
       "992     ud-learn  5c361181-b064-412c-9497-0444e544a1e2  Udacity   \n",
       "993     ud-learn  851bb622-77b5-488a-8c91-e4fbfe484852  Udacity   \n",
       "994     ud-learn  b2d2ad39-10f3-4513-90a5-f1b3d9bf430a  Udacity   \n",
       "\n",
       "                                          title  \\\n",
       "990                                        SQL    \n",
       "991   Flying Car and Autonomous Flight Engineer   \n",
       "992                  Intro to Self-Driving Cars   \n",
       "993                     Artificial Intelligence   \n",
       "994                 AI Programming with Python    \n",
       "\n",
       "                                           description instructor  \\\n",
       "990  Perform analysis on data stored in relational ...        NaN   \n",
       "991  In this program, you’ll learn the core concept...        NaN   \n",
       "992  In this program, you’ll sharpen your Python sk...        NaN   \n",
       "993  This program will teach you how to become a be...        NaN   \n",
       "994  This program focuses on the fundamental buildi...        NaN   \n",
       "\n",
       "             level                                               role  \\\n",
       "990      beginner   Data Analyst, Product Analyst, Business Analys...   \n",
       "991       advanced  : Unmanned Aircraft Software Engineer, Softwar...   \n",
       "992   intermediate                                           engineer   \n",
       "993  intermediate                                        AI engineer    \n",
       "994      beginner                                           engineer    \n",
       "\n",
       "                                  product duration rating_count  \\\n",
       "990                            SQL, noSQL       80          4.5   \n",
       "991                           Python, C++      160          4.6   \n",
       "992  Tensorflow, Keras, ROS, C++, Python       160         4.7    \n",
       "993                                Python      120         4.5    \n",
       "994                                Python      120         4.6    \n",
       "\n",
       "    rating_average                                                url  \n",
       "990            200   https://www.udacity.com/course/learn-sql--nd072   \n",
       "991           200   https://www.udacity.com/course/flying-car-nano...  \n",
       "992            550  https://www.udacity.com/course/intro-to-self-d...  \n",
       "993           250   https://www.udacity.com/course/ai-artificial-i...  \n",
       "994            800  https://www.udacity.com/course/ai-programming-...  "
      ]
     },
     "execution_count": 22,
     "metadata": {},
     "output_type": "execute_result"
    }
   ],
   "source": [
    "df.tail()"
   ]
  },
  {
   "cell_type": "code",
   "execution_count": 23,
   "metadata": {},
   "outputs": [],
   "source": [
    "df.to_csv('course_cleaned.csv')"
   ]
  },
  {
   "cell_type": "code",
   "execution_count": null,
   "metadata": {},
   "outputs": [],
   "source": []
  }
 ],
 "metadata": {
  "kernelspec": {
   "display_name": "udacity",
   "language": "python",
   "name": "python3"
  },
  "language_info": {
   "codemirror_mode": {
    "name": "ipython",
    "version": 3
   },
   "file_extension": ".py",
   "mimetype": "text/x-python",
   "name": "python",
   "nbconvert_exporter": "python",
   "pygments_lexer": "ipython3",
   "version": "3.11.5"
  }
 },
 "nbformat": 4,
 "nbformat_minor": 2
}
